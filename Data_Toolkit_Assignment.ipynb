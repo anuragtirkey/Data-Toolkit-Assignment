{
  "nbformat": 4,
  "nbformat_minor": 0,
  "metadata": {
    "colab": {
      "provenance": []
    },
    "kernelspec": {
      "name": "python3",
      "display_name": "Python 3"
    },
    "language_info": {
      "name": "python"
    }
  },
  "cells": [
    {
      "cell_type": "markdown",
      "source": [
        "# Data Toolkit Assignment\n",
        "\n",
        "1. What is NumPy, and why is it widely used in Python?\n",
        "\n",
        "  Ans. NumPy, which stands for Numerical Python, is a library in Python that provides support for large multi-dimensional arrays and matrices. Along with that, it offers a collection of mathematical functions to operate on these arrays with ease.\n",
        "\n",
        "  Here's why NumPy is widely used:\n",
        "\n",
        "  - Efficiency: NumPy's array operations are much faster compared to Python's built-in lists, making it ideal for large-scale data manipulation.\n",
        "\n",
        "  - Convenience: It provides a lot of useful functions for mathematical, logical, shape manipulation, sorting, and other operations.\n",
        "\n",
        "  - Interoperability: It integrates well with other libraries like SciPy, Matplotlib, and Pandas, which are essential for scientific and data analysis applications.\n",
        "\n",
        "  - Simplicity: NumPy simplifies complex mathematical computations and operations on arrays and matrices, making code easier to write and read.\n",
        "\n",
        "2. How does broadcasting work in NumPy?\n",
        "\n",
        "  Ans. Broadcasting lets us do math with arrays of different shapes.\n",
        "    - It automatically reshapes smaller arrays to match the shape of larger arrays.\n",
        "    - Two dimensions are compatible if:\n",
        "        - They are equal, or\n",
        "        -  One of them is 1.\n",
        "\n",
        "3. What is a Pandas DataFrame?\n",
        "\n",
        "  Ans. A Pandas DataFrame is a two-dimensional, table-like data structure in Python. It's similar to a spreadsheet is widely used for data manipulation and analysis.\n",
        "\n",
        "  - Rows and Columns: A DataFrame has rows and columns, where each column can have different data types (e.g., numbers, strings).\n",
        "\n",
        "  - Labeled Axes: Both rows and columns are labeled, making it easy to access and manipulate data.\n",
        "\n",
        "  - Versatile: It can handle missing data, perform group operations, and merge or join datasets.\n",
        "\n",
        "4.\tExplain the use of the groupby() method in Pandas.\n",
        "\n",
        "  Ans. The groupby() method in Pandas is used to group data based on one or more columns and then apply aggregate functions to each group separately. This is very helpful for analyzing large datasets and extracting meaningful insights.\n",
        "\n",
        "  - Grouping Data: You specify one or more columns to group the data by.\n",
        "\n",
        "  - Applying Functions: You can then apply functions (e.g., sum, mean, count) to each group to get summary statistics.\n",
        "\n",
        "5.\tWhy is Seaborn preferred for statistical visualizations?\n",
        "\n",
        "  Ans. Seaborn is preferred for statistical visualizations because it simplifies the creation of attractive and informative plots. Here are some reasons why it's favored:\n",
        "\n",
        "  i. Built on Matplotlib: Seaborn is built on top of Matplotlib, which means it inherits the flexibility of Matplotlib while offering a higher-level interface for drawing attractive plots.\n",
        "\n",
        "  ii. Beautiful Default Styles: It comes with aesthetic default styles and color palettes, which makes it easy to create visually appealing plots with minimal effort.\n",
        "\n",
        "  iii. Simplifies Complex Plots: Seaborn makes it easy to create complex visualizations like violin plots, pair plots, and heatmaps, which would require much more code with plain Matplotlib.\n",
        "\n",
        "  iv. Statistical Functions: It provides built-in functions for statistical plots that automatically compute and plot aggregates, trends, and confidence intervals.\n",
        "\n",
        "  v. Integration with Pandas: Seaborn works seamlessly with Pandas DataFrames, making it easy to visualize data directly from your DataFrame without additional preprocessing.\n",
        "\n",
        "6.\tWhat are the differences between NumPy arrays and Python lists?\n",
        "\n",
        "  Ans. NumPy arrays and Python lists are both used to store collections of items, but they have some key differences:\n",
        "\n",
        "  (a) Performance:\n",
        "\n",
        "    - NumPy Arrays: Faster and more efficient for numerical operations because they use fixed data types and contiguous memory.\n",
        "\n",
        "    - Python Lists: Slower because they can store items of different data types, leading to more memory overhead and less efficient access.\n",
        "\n",
        "  (b) Data Types:\n",
        "\n",
        "    - NumPy Arrays: Require all elements to be of the same data type (e.g., all integers or all floats), which allows for optimized performance.\n",
        "\n",
        "    - Python Lists: Can contain elements of different data types (e.g., integers, strings, and floats in the same list).\n",
        "\n",
        "  (c) Operations:\n",
        "\n",
        "    - NumPy Arrays: Support element-wise operations and broadcasting, making mathematical computations easy and efficient.\n",
        "\n",
        "    - Python Lists: Do not support element-wise operations directly; we need to use loops or list comprehensions.\n",
        "\n",
        "  (d) Functionality:\n",
        "\n",
        "    - NumPy Arrays: Come with a wide range of built-in functions for mathematical, statistical, and scientific computations.\n",
        "\n",
        "    - Python Lists: Have basic functionalities for adding, removing, and accessing elements but lack advanced mathematical functions.\n",
        "\n",
        "  (e) Memory Usage:\n",
        "\n",
        "    - NumPy Arrays: More memory-efficient due to their fixed data types and compact storage.\n",
        "\n",
        "    - Python Lists: Less memory-efficient due to the overhead of storing different data types.\n",
        "\n",
        "7.\tWhat is a heatmap, and when should it be used?\n",
        "\n",
        "  Ans. A heatmap is a data visualization tool that represents data in a matrix or table form, where individual values are represented by colors. It's an efficient way to show the magnitude of data points, patterns, and correlations within a dataset.\n",
        "\n",
        "  When to Use a Heatmap:\n",
        "  \n",
        "  - Data Correlation: To visualize the relationship between different variables.\n",
        "\n",
        "  - Pattern Recognition: To identify patterns, trends, and outliers in the data.\n",
        "\n",
        "  - Large Datasets: To efficiently represent large volumes of data in a compact form.\n",
        "\n",
        "  - Hierarchical Clustering: To show the result of hierarchical clustering as part of exploratory data analysis.\n",
        "\n",
        "8. What does the term \"vectorized operation\" mean in NumPy?\n",
        "\n",
        "  Ans. A \"vectorized operation\" in NumPy refers to the ability to perform element-wise operations on entire arrays without using explicit loops. This means that operations like addition, multiplication, and more can be applied directly to arrays, and they will be executed efficiently by leveraging low-level optimizations.\n",
        "\n",
        "9.\tHow does Matplotlib differ from Plotly?\n",
        "\n",
        "  Ans. Matplotlib and Plotly are both powerful visualization libraries in Python, but they have some key differences:\n",
        "\n",
        "  # Matplotlib:\n",
        "\n",
        "  - Library Type: A 2D plotting library that is widely used for creating static, animated, and interactive visualizations in Python.\n",
        "  - Customization: Highly customizable with a vast range of functions to tweak every aspect of a plot.\n",
        "  - Interactivity: Limited interactivity out-of-the-box; mostly used for static images.\n",
        "  - Ease of Use: Has a steeper learning curve, especially for complex plots.\n",
        "  - Output Formats: Produces static images which can be saved in various formats like PNG, PDF, SVG, etc.\n",
        "\n",
        "  # Plotly:\n",
        "\n",
        "  - Library Type: An interactive visualization library that supports interactive plots and dashboards.\n",
        "  - Customization: Offers extensive customization options with a more user-friendly syntax, making it easier to create complex visualizations.\n",
        "  - Interactivity: Built-in interactivity, including zooming, panning, and hovering over data points to display additional information.\n",
        "  - Ease of Use: Easier to use for creating interactive plots and dashboards with fewer lines of code.\n",
        "  - Output Formats: Produces interactive visualizations that can be embedded in web applications or saved as static images.\n",
        "\n",
        "10.\tWhat is the significance of hierarchical indexing in Pandas?\n",
        "\n",
        "  Ans. Hierarchical indexing, also known as MultiIndexing, in Pandas allows us to work with data at multiple levels of hierarchy within a DataFrame or Series. This feature is especially useful for handling and analyzing complex datasets.\n",
        "\n",
        "11.\tWhat is the role of Seaborn's pairplot() function?\n",
        "\n",
        "  Ans. Seaborn's pairplot() function is a useful tool for visualizing relationships between multiple variables in a dataset. Here’s a quick overview of its role:\n",
        "\n",
        "  #### Key Points:\n",
        "\n",
        "  - Pairwise Relationships: It creates a matrix of scatter plots to show pairwise relationships between variables.\n",
        "\n",
        "  - Diagonals as Histograms: The diagonal plots show the distribution of individual variables as histograms.\n",
        "\n",
        "  - Visualization of Data Patterns: It helps in identifying patterns, correlations, and potential outliers among variables.\n",
        "\n",
        "  - Categorical Grouping: we can use different colors to distinguish between different categories within the data.\n",
        "\n",
        "12.\tWhat is the purpose of the describe() function in Pandas?\n",
        "\n",
        "  Ans. The describe() function (aka 5 point summary) in Pandas provides a quick and convenient way to generate summary statistics for numerical columns in a DataFrame. It helps us to understand the distribution and central tendencies of our data. It typically includes:\n",
        "\n",
        "  - Count\n",
        "  - Mean\n",
        "  - Standard Deviation (std)\n",
        "  - Min\n",
        "  - Max\n",
        "  - 25%, 50%, 75% Quartiles / percentiles\n",
        "\n",
        "13.\tWhy is handling missing data important in Pandas?\n",
        "\n",
        "  Ans. Handling missing data is crucial in Pandas for several reasons:\n",
        "\n",
        "      (a) Data Accuracy: Missing data can lead to inaccurate analysis and results. Proper handling ensures that our data analysis is based on complete and reliable information.\n",
        "\n",
        "      (b) Statistical Validity: Many statistical models and algorithms require complete datasets. Handling missing data allows these models to work correctly and produce valid results.\n",
        "\n",
        "      (c) Error Prevention: Missing data can cause errors or unexpected behavior in data processing and analysis. Addressing these issues prevents disruptions in your workflow.\n",
        "\n",
        "      (d) Better Insights: Filling in or accounting for missing data can provide a clearer and more comprehensive picture of our dataset, leading to better insights and decisions.\n",
        "\n",
        "14.\tWhat are the benefits of using Plotly for data visualization?\n",
        "\n",
        "  Ans. Plotly offers several benefits for data visualization, making it a popular choice for creating interactive and visually appealing plots:\n",
        "\n",
        "  ### Interactivity:\n",
        "\n",
        "  Plotly provides built-in interactivity, such as zooming, panning, and hovering over data points to display additional information. This makes it easy to explore and understand complex data.\n",
        "\n",
        "  ### Ease of Use:\n",
        "\n",
        "  Plotly has a user-friendly syntax and a high-level interface, allowing us to create complex visualizations with fewer lines of code compared to other libraries.\n",
        "\n",
        "  ### Customization:\n",
        "\n",
        "  Plotly offers extensive customization options, enabling us to tweak various aspects of our plots to meet specific requirements and preferences.\n",
        "\n",
        "  ### Wide Range of Plot Types:\n",
        "\n",
        "  Plotly supports a wide variety of plot types, including line plots, scatter plots, bar charts, heatmaps, 3D plots, and more, catering to diverse visualization needs.\n",
        "\n",
        "  ### Integration:\n",
        "\n",
        "  Plotly integrates seamlessly with other libraries like Pandas and NumPy, making it easy to visualize data directly from our DataFrames or arrays.\n",
        "\n",
        "  ### Publishing and Sharing:\n",
        "\n",
        "  Plotly allows us to easily publish and share interactive visualizations online, making it ideal for creating dashboards, reports, and presentations.\n",
        "\n",
        "  ### Built-in Statistical Functions:\n",
        "\n",
        "  Plotly includes built-in statistical functions that help us visualize distributions, trends, and correlations in our data.\n",
        "\n",
        "15.\tHow does NumPy handle multidimensional arrays?\n",
        "\n",
        "  Ans. NumPy handles multidimensional arrays, also known as ndarrays, efficiently and with ease. Here are the key points:\n",
        "\n",
        "  ### Creation:\n",
        "  \n",
        "  We can create multidimensional arrays using functions like np.array(), np.zeros(), np.ones(), and np.arange().\n",
        "\n",
        "  ### Shape and Size:\n",
        "  \n",
        "  Multidimensional arrays have a shape attribute that indicates the dimensions of the array (e.g., rows, columns). We can use the reshape() method to change the shape of an array.\n",
        "\n",
        "  ### Element Access:\n",
        "  \n",
        "  We can access elements of a multidimensional array using multiple indices. For example, array[1, 2] accesses the element in the second row and third column.\n",
        "\n",
        "  ### Operations:\n",
        "  \n",
        "  NumPy supports element-wise operations, broadcasting, and various mathematical functions on multidimensional arrays, making computations efficient and concise.\n",
        "\n",
        "  ### Slicing:\n",
        "  \n",
        "  We can slice multidimensional arrays to access subsets of data. For example, array[:, 1] accesses all rows in the second column.\n",
        "\n",
        "16.\tWhat is the role of Bokeh in data visualization?\n",
        "\n",
        "  Ans. Bokeh is a Python library used for creating interactive visualizations and dashboards. It allows use to build dynamic plots with features like zooming, panning, and hovering, making data exploration and presentation more engaging.\n",
        "  \n",
        "  Bokeh integrates well with other Python libraries and web frameworks, and it supports a wide range of plot types, including line plots, scatter plots, and bar charts. With Bokeh, we can create visually appealing and customizable plots that can be saved as HTML files or embedded in web applications.\n",
        "\n",
        "17.\tExplain the difference between apply() and map() in Pandas.\n",
        "\n",
        "  Ans. In Pandas, apply() and map() are used for applying functions to data, but they have different purposes and use cases:\n",
        "\n",
        "  ### apply():\n",
        "\n",
        "  - Purpose: Used to apply a function along an axis of a DataFrame (rows or columns) or to each element in a Series.\n",
        "\n",
        "  - Use Case: Useful for applying more complex functions that operate on entire rows or columns.\n",
        "\n",
        "  ### map():\n",
        "\n",
        "  - Purpose: Used to apply a function to each element of a Series.\n",
        "\n",
        "  - Use Case: Ideal for element-wise transformations or mappings.\n",
        "\n",
        "18.\tWhat are some advanced features of NumPy?\n",
        "\n",
        "  Ans. NumPy offers several advanced features that enhance its capabilities for numerical and scientific computing:\n",
        "\n",
        "  ### Broadcasting:\n",
        "\n",
        "  Enables arithmetic operations on arrays of different shapes without explicit reshaping.\n",
        "\n",
        "  ### Linear Algebra:\n",
        "\n",
        "  Functions for matrix operations, such as matrix multiplication, eigenvalues, determinants, and solving linear equations.\n",
        "\n",
        "  ### Random Sampling:\n",
        "\n",
        "  A module for generating random numbers and creating random samples from various probability distributions.\n",
        "\n",
        "  ### Masked Arrays:\n",
        "\n",
        "  Support for arrays with missing or invalid entries, allowing computations while ignoring these values.\n",
        "\n",
        "  ### Polynomial Functions:\n",
        "\n",
        "  Tools for handling and manipulating polynomials, including fitting, evaluation, and root finding.\n",
        "\n",
        "  ### Memory-mapped Arrays:\n",
        "\n",
        "  Ability to create arrays stored in files on disk, which can be accessed as if they were in memory, useful for working with large datasets.\n",
        "\n",
        "  ### Structured Arrays:\n",
        "\n",
        "  Support for heterogeneous data types, allowing for arrays with different data types in each column, similar to a table or DataFrame.\n",
        "\n",
        "19.\tHow does Pandas simplify time series analysis?\n",
        "\n",
        "  Ans. Pandas simplifies time series analysis with several built-in features designed specifically for handling time-based data. Here are the key ways it helps:\n",
        "\n",
        "  ### Date and Time Handling:\n",
        "\n",
        "  Pandas has powerful tools for parsing, manipulating, and formatting date and time data, such as pd.to_datetime() to convert strings to datetime objects.\n",
        "\n",
        "  ### Resampling:\n",
        "\n",
        "  Easily resample time series data to different frequencies (e.g., daily to monthly) using the resample() method, which allows aggregation like sum, mean, or custom functions.\n",
        "\n",
        "  ### Time-based Indexing:\n",
        "\n",
        "  Use datetime objects as indices for DataFrames and Series, enabling easy slicing and querying based on specific time ranges.\n",
        "\n",
        "  ### Rolling and Expanding Windows:\n",
        "\n",
        "  Perform rolling window operations (e.g., moving average) with rolling() and expanding window operations with expanding() to analyze trends and patterns.\n",
        "\n",
        "  ### Handling Missing Data:\n",
        "\n",
        "  Fill missing data points within a time series using methods like fillna()\n",
        "\n",
        "  ### Plotting:\n",
        "\n",
        "  Directly plot time series data using the built-in plotting functions, making it easy to visualize trends over time.\n",
        "\n",
        "20.\tWhat is the role of a pivot table in Pandas?\n",
        "\n",
        "  Ans. A pivot table in Pandas is a tool that helps summarize and reorganize data by grouping it based on specific columns and performing aggregation functions like sum, mean, and count.\n",
        "  \n",
        "  It allows us to easily analyze data from different perspectives, providing meaningful insights and making complex data more manageable and understandable. For example, we can quickly see the total sales by region and product category in a dataset.\n",
        "\n",
        "21.\tWhy is NumPy's array slicing faster than Python's list slicing?\n",
        "\n",
        "  Ans. NumPy's array slicing is faster than Python's list slicing due to the underlying implementation differences.\n",
        "  - NumPy arrays use contiguous blocks of memory with a fixed data type, allowing for efficient access and manipulation of elements.\n",
        "  - This enables optimized low-level operations written in C.\n",
        "  - In contrast, Python lists are more flexible, allowing elements of different data types, which introduces overhead and makes operations slower.\n",
        "  - The efficiency of NumPy arrays makes them particularly well-suited for numerical and scientific computing tasks.\n",
        "\n",
        "22.\tWhat are some common use cases for Seaborn?\n",
        "\n",
        "  Ans. Here are some common use cases for Seaborn:\n",
        "\n",
        "  (a) Exploratory Data Analysis (EDA)\n",
        "      \n",
        "      Use Case: Analyzing customer data to understand purchasing patterns.\n",
        "\n",
        "      - Task: Identify which products are most popular, the average spending per customer, and trends over time.\n",
        "      - Tools: Histograms, scatter plots, box plots, and summary statistics.\n",
        "  \n",
        "  (b) Categorical Data Visualization\n",
        "\n",
        "      Use Case: Visualizing survey results to understand participant demographics.\n",
        "\n",
        "      - Task: Display the distribution of responses across different categories such as age groups, gender, and income levels.\n",
        "      - Tools: Bar plots, count plots, and pie charts.\n",
        "  \n",
        "  (c) Bar Plots\n",
        "\n",
        "      Use Case: Comparing the sales performance of different products.\n",
        "\n",
        "      - Task: Show the total sales for each product category to identify the best and worst performers.\n",
        "      - Tools: sns.barplot() to display average sales per product category.\n",
        "  \n",
        "  (d) Box Plots\n",
        "\n",
        "      Use Case: Analyzing the distribution of exam scores among students.\n",
        "\n",
        "      - Task: Compare the performance of students across different subjects, highlighting the spread and outliers.\n",
        "      - Tools: sns.boxplot() to show the distribution of scores by subject.\n",
        "\n",
        "  (e) Violin Plots\n",
        "\n",
        "      Use Case: Understanding the distribution of salaries in different job roles.\n",
        "\n",
        "      - Task: Visualize the salary distribution for various job titles, highlighting the density and spread.\n",
        "      - Tools: sns.violinplot() to display the distribution of salaries for each job role.\n",
        "\n",
        "  (f) Regression Analysis\n",
        "\n",
        "      Use Case: Predicting house prices based on various features.\n",
        "\n",
        "      - Task: Fit a regression model to predict house prices using features such as square footage, number of bedrooms, and location.\n",
        "      - Tools: sns.regplot() to fit and visualize the regression model.\n",
        "\n",
        "  (g) Heatmaps\n",
        "\n",
        "      Use Case: Visualizing the correlation between different financial indicators.\n",
        "\n",
        "      - Task: Show the correlation matrix of various financial metrics like stock prices, interest rates, and GDP growth.\n",
        "      - Tools: sns.heatmap() to visualize the correlation matrix.\n",
        "\n",
        "  (h) Time Series Analysis\n",
        "\n",
        "      Use Case: Forecasting monthly sales for a retail store.\n",
        "\n",
        "      - Task: Analyze historical sales data to identify trends, seasonality, and make future sales predictions.\n",
        "      - Tools: Line plots, moving averages, and decomposition plots.\n",
        "\n",
        "  (i) Line Plots\n",
        "\n",
        "      Use Case: Tracking website traffic over time.\n",
        "\n",
        "      - Task: Visualize the number of daily visitors to a website to identify trends and patterns.\n",
        "      - Tools: sns.lineplot() to display the time series data.\n",
        "\n",
        "  (j) Statistical Analysis\n",
        "\n",
        "      Use Case: Examining the relationship between two variables in a dataset.\n",
        "\n",
        "      - Task: Analyze the relationship between advertising spend and sales revenue to determine the effectiveness of marketing campaigns.\n",
        "      - Tools: sns.jointplot() to visualize bivariate relationships and sns.pairplot() for multivariate relationships.\n",
        "      "
      ],
      "metadata": {
        "id": "bgX7oeHfu7EC"
      }
    },
    {
      "cell_type": "markdown",
      "source": [
        "# Practical Questions\n",
        "\n",
        "l. How do you create a 2D NumPy array and calculate the sum of each row?"
      ],
      "metadata": {
        "id": "12PoAuSoBSon"
      }
    },
    {
      "cell_type": "code",
      "source": [
        "import numpy as np\n",
        "\n",
        "array_2d = np.array([[1, 2, 3], [4, 5, 6], [7, 8, 9]])\n",
        "\n",
        "row_sums = np.sum(array_2d, axis=1)\n",
        "\n",
        "print(\"2D NumPy Array:\")\n",
        "print(array_2d)\n",
        "print(\"Sum of Each Row:\")\n",
        "print(row_sums)\n"
      ],
      "metadata": {
        "colab": {
          "base_uri": "https://localhost:8080/"
        },
        "id": "7QXnFObeBdfM",
        "outputId": "c2288be5-4d15-4282-abcb-ea4651cc573c"
      },
      "execution_count": 3,
      "outputs": [
        {
          "output_type": "stream",
          "name": "stdout",
          "text": [
            "2D NumPy Array:\n",
            "[[1 2 3]\n",
            " [4 5 6]\n",
            " [7 8 9]]\n",
            "Sum of Each Row:\n",
            "[ 6 15 24]\n"
          ]
        }
      ]
    },
    {
      "cell_type": "markdown",
      "source": [
        "2.\tWrite a Pandas script to find the mean of a specific column in a DataFrame."
      ],
      "metadata": {
        "id": "dZY-REsDCVOS"
      }
    },
    {
      "cell_type": "code",
      "source": [
        "import pandas as pd\n",
        "\n",
        "data = {'Name': ['anurag', 'rahul', 'arnav', 'pankaj'],\n",
        "        'Age': [25, 30, 35, 40],\n",
        "        'Salary': [50000, 60000, 70000, 80000]}\n",
        "\n",
        "df = pd.DataFrame(data)\n",
        "\n",
        "mean_salary = df['Salary'].mean()\n",
        "\n",
        "print(\"Mean Salary:\", mean_salary)\n"
      ],
      "metadata": {
        "colab": {
          "base_uri": "https://localhost:8080/"
        },
        "id": "kf7yyBCuCZHp",
        "outputId": "b041f6c0-20c8-4951-81cd-963a4f17cbca"
      },
      "execution_count": 4,
      "outputs": [
        {
          "output_type": "stream",
          "name": "stdout",
          "text": [
            "Mean Salary: 65000.0\n"
          ]
        }
      ]
    },
    {
      "cell_type": "markdown",
      "source": [
        "3.\tCreate a scatter plot using Matplotlib."
      ],
      "metadata": {
        "id": "LpGBTAKCCtsv"
      }
    },
    {
      "cell_type": "code",
      "source": [
        "import matplotlib.pyplot as plt\n",
        "\n",
        "x = [1, 2, 3, 4, 5]\n",
        "y = [10, 14, 12, 15, 10]\n",
        "\n",
        "plt.scatter(x, y)\n",
        "\n",
        "plt.title('Scatter Plot')\n",
        "plt.xlabel('X-axis')\n",
        "plt.ylabel('Y-axis')\n",
        "\n",
        "plt.show()\n"
      ],
      "metadata": {
        "colab": {
          "base_uri": "https://localhost:8080/",
          "height": 472
        },
        "id": "JE9fiIh6C4ac",
        "outputId": "330c968e-10d7-47d0-eac7-f069a40c43c8"
      },
      "execution_count": 7,
      "outputs": [
        {
          "output_type": "display_data",
          "data": {
            "text/plain": [
              "<Figure size 640x480 with 1 Axes>"
            ],
            "image/png": "[encoded data removed]"
          },
          "metadata": {}
        }
      ]
    },
    {
      "cell_type": "markdown",
      "source": [
        "4.\tHow do you calculate the correlation matrix using Seaborn and visualize it with a heatmap?"
      ],
      "metadata": {
        "id": "6zSsmq9pDSSP"
      }
    },
    {
      "cell_type": "code",
      "source": [
        "import seaborn as sns\n",
        "\n",
        "data = {\n",
        "    'A': [1, 2, 3, 4, 5],\n",
        "    'B': [5, 6, 7, 8, 9],\n",
        "    'C': [9, 8, 7, 6, 5],\n",
        "    'D': [5, 4, 3, 2, 1]\n",
        "}\n",
        "df = pd.DataFrame(data)\n",
        "\n",
        "correlation_matrix = df.corr()\n",
        "\n",
        "sns.heatmap(correlation_matrix, annot=True, cmap='coolwarm')\n",
        "\n",
        "plt.title('Correlation Matrix Heatmap')\n",
        "\n",
        "plt.show()\n"
      ],
      "metadata": {
        "colab": {
          "base_uri": "https://localhost:8080/",
          "height": 452
        },
        "id": "akaSnIJTDcM9",
        "outputId": "67a82cf5-45ac-4bcd-9f00-ee6cb24b8397"
      },
      "execution_count": 14,
      "outputs": [
        {
          "output_type": "display_data",
          "data": {
            "text/plain": [
              "<Figure size 640x480 with 2 Axes>"
            ],
            "image/png": "[encoded data removed]"
          },
          "metadata": {}
        }
      ]
    },
    {
      "cell_type": "markdown",
      "source": [
        "5.\tGenerate a bar plot using Plotly."
      ],
      "metadata": {
        "id": "EZJXAD5fDzrO"
      }
    },
    {
      "cell_type": "code",
      "source": [
        "import plotly.express as px\n",
        "\n",
        "data = {\n",
        "    'Category': ['A', 'B', 'C', 'D'],\n",
        "    'Values': [100, 150, 80, 120]\n",
        "}\n",
        "\n",
        "df = pd.DataFrame(data)\n",
        "\n",
        "fig = px.bar(df, x='Category', y='Values', title='Bar Plot')\n",
        "\n",
        "fig.show()\n"
      ],
      "metadata": {
        "colab": {
          "base_uri": "https://localhost:8080/",
          "height": 542
        },
        "id": "cmQGJpOcD24g",
        "outputId": "185b3a43-6649-46cb-93e2-df7a81e20685"
      },
      "execution_count": 11,
      "outputs": [
        {
          "output_type": "display_data",
          "data": {
            "text/html": [
              "<html>\n",
              "<head><meta charset=\"utf-8\" /></head>\n",
              "<body>\n",
              "    <div>            <script src=\"https://cdnjs.cloudflare.com/ajax/libs/mathjax/2.7.5/MathJax.js?config=TeX-AMS-MML_SVG\"></script><script type=\"text/javascript\">if (window.MathJax && window.MathJax.Hub && window.MathJax.Hub.Config) {window.MathJax.Hub.Config({SVG: {font: \"STIX-Web\"}});}</script>                <script type=\"text/javascript\">window.PlotlyConfig = {MathJaxConfig: 'local'};</script>\n",
              "        <script charset=\"utf-8\" src=\"https://cdn.plot.ly/plotly-2.35.2.min.js\"></script>                <div id=\"b78e6032-e7a5-4fc6-be03-45638a3b62d1\" class=\"plotly-graph-div\" style=\"height:525px; width:100%;\"></div>            <script type=\"text/javascript\">                                    window.PLOTLYENV=window.PLOTLYENV || {};                                    if (document.getElementById(\"b78e6032-e7a5-4fc6-be03-45638a3b62d1\")) {                    Plotly.newPlot(                        \"b78e6032-e7a5-4fc6-be03-45638a3b62d1\",                        [{\"alignmentgroup\":\"True\",\"hovertemplate\":\"Category=%{x}\\u003cbr\\u003eValues=%{y}\\u003cextra\\u003e\\u003c\\u002fextra\\u003e\",\"legendgroup\":\"\",\"marker\":{\"color\":\"#636efa\",\"pattern\":{\"shape\":\"\"}},\"name\":\"\",\"offsetgroup\":\"\",\"orientation\":\"v\",\"showlegend\":false,\"textposition\":\"auto\",\"x\":[\"A\",\"B\",\"C\",\"D\"],\"xaxis\":\"x\",\"y\":[100,150,80,120],\"yaxis\":\"y\",\"type\":\"bar\"}],                        {\"template\":{\"data\":{\"histogram2dcontour\":[{\"type\":\"histogram2dcontour\",\"colorbar\":{\"outlinewidth\":0,\"ticks\":\"\"},\"colorscale\":[[0.0,\"#0d0887\"],[0.1111111111111111,\"#46039f\"],[0.2222222222222222,\"#7201a8\"],[0.3333333333333333,\"#9c179e\"],[0.4444444444444444,\"#bd3786\"],[0.5555555555555556,\"#d8576b\"],[0.6666666666666666,\"#ed7953\"],[0.7777777777777778,\"#fb9f3a\"],[0.8888888888888888,\"#fdca26\"],[1.0,\"#f0f921\"]]}],\"choropleth\":[{\"type\":\"choropleth\",\"colorbar\":{\"outlinewidth\":0,\"ticks\":\"\"}}],\"histogram2d\":[{\"type\":\"histogram2d\",\"colorbar\":{\"outlinewidth\":0,\"ticks\":\"\"},\"colorscale\":[[0.0,\"#0d0887\"],[0.1111111111111111,\"#46039f\"],[0.2222222222222222,\"#7201a8\"],[0.3333333333333333,\"#9c179e\"],[0.4444444444444444,\"#bd3786\"],[0.5555555555555556,\"#d8576b\"],[0.6666666666666666,\"#ed7953\"],[0.7777777777777778,\"#fb9f3a\"],[0.8888888888888888,\"#fdca26\"],[1.0,\"#f0f921\"]]}],\"heatmap\":[{\"type\":\"heatmap\",\"colorbar\":{\"outlinewidth\":0,\"ticks\":\"\"},\"colorscale\":[[0.0,\"#0d0887\"],[0.1111111111111111,\"#46039f\"],[0.2222222222222222,\"#7201a8\"],[0.3333333333333333,\"#9c179e\"],[0.4444444444444444,\"#bd3786\"],[0.5555555555555556,\"#d8576b\"],[0.6666666666666666,\"#ed7953\"],[0.7777777777777778,\"#fb9f3a\"],[0.8888888888888888,\"#fdca26\"],[1.0,\"#f0f921\"]]}],\"heatmapgl\":[{\"type\":\"heatmapgl\",\"colorbar\":{\"outlinewidth\":0,\"ticks\":\"\"},\"colorscale\":[[0.0,\"#0d0887\"],[0.1111111111111111,\"#46039f\"],[0.2222222222222222,\"#7201a8\"],[0.3333333333333333,\"#9c179e\"],[0.4444444444444444,\"#bd3786\"],[0.5555555555555556,\"#d8576b\"],[0.6666666666666666,\"#ed7953\"],[0.7777777777777778,\"#fb9f3a\"],[0.8888888888888888,\"#fdca26\"],[1.0,\"#f0f921\"]]}],\"contourcarpet\":[{\"type\":\"contourcarpet\",\"colorbar\":{\"outlinewidth\":0,\"ticks\":\"\"}}],\"contour\":[{\"type\":\"contour\",\"colorbar\":{\"outlinewidth\":0,\"ticks\":\"\"},\"colorscale\":[[0.0,\"#0d0887\"],[0.1111111111111111,\"#46039f\"],[0.2222222222222222,\"#7201a8\"],[0.3333333333333333,\"#9c179e\"],[0.4444444444444444,\"#bd3786\"],[0.5555555555555556,\"#d8576b\"],[0.6666666666666666,\"#ed7953\"],[0.7777777777777778,\"#fb9f3a\"],[0.8888888888888888,\"#fdca26\"],[1.0,\"#f0f921\"]]}],\"surface\":[{\"type\":\"surface\",\"colorbar\":{\"outlinewidth\":0,\"ticks\":\"\"},\"colorscale\":[[0.0,\"#0d0887\"],[0.1111111111111111,\"#46039f\"],[0.2222222222222222,\"#7201a8\"],[0.3333333333333333,\"#9c179e\"],[0.4444444444444444,\"#bd3786\"],[0.5555555555555556,\"#d8576b\"],[0.6666666666666666,\"#ed7953\"],[0.7777777777777778,\"#fb9f3a\"],[0.8888888888888888,\"#fdca26\"],[1.0,\"#f0f921\"]]}],\"mesh3d\":[{\"type\":\"mesh3d\",\"colorbar\":{\"outlinewidth\":0,\"ticks\":\"\"}}],\"scatter\":[{\"fillpattern\":{\"fillmode\":\"overlay\",\"size\":10,\"solidity\":0.2},\"type\":\"scatter\"}],\"parcoords\":[{\"type\":\"parcoords\",\"line\":{\"colorbar\":{\"outlinewidth\":0,\"ticks\":\"\"}}}],\"scatterpolargl\":[{\"type\":\"scatterpolargl\",\"marker\":{\"colorbar\":{\"outlinewidth\":0,\"ticks\":\"\"}}}],\"bar\":[{\"error_x\":{\"color\":\"#2a3f5f\"},\"error_y\":{\"color\":\"#2a3f5f\"},\"marker\":{\"line\":{\"color\":\"#E5ECF6\",\"width\":0.5},\"pattern\":{\"fillmode\":\"overlay\",\"size\":10,\"solidity\":0.2}},\"type\":\"bar\"}],\"scattergeo\":[{\"type\":\"scattergeo\",\"marker\":{\"colorbar\":{\"outlinewidth\":0,\"ticks\":\"\"}}}],\"scatterpolar\":[{\"type\":\"scatterpolar\",\"marker\":{\"colorbar\":{\"outlinewidth\":0,\"ticks\":\"\"}}}],\"histogram\":[{\"marker\":{\"pattern\":{\"fillmode\":\"overlay\",\"size\":10,\"solidity\":0.2}},\"type\":\"histogram\"}],\"scattergl\":[{\"type\":\"scattergl\",\"marker\":{\"colorbar\":{\"outlinewidth\":0,\"ticks\":\"\"}}}],\"scatter3d\":[{\"type\":\"scatter3d\",\"line\":{\"colorbar\":{\"outlinewidth\":0,\"ticks\":\"\"}},\"marker\":{\"colorbar\":{\"outlinewidth\":0,\"ticks\":\"\"}}}],\"scattermapbox\":[{\"type\":\"scattermapbox\",\"marker\":{\"colorbar\":{\"outlinewidth\":0,\"ticks\":\"\"}}}],\"scatterternary\":[{\"type\":\"scatterternary\",\"marker\":{\"colorbar\":{\"outlinewidth\":0,\"ticks\":\"\"}}}],\"scattercarpet\":[{\"type\":\"scattercarpet\",\"marker\":{\"colorbar\":{\"outlinewidth\":0,\"ticks\":\"\"}}}],\"carpet\":[{\"aaxis\":{\"endlinecolor\":\"#2a3f5f\",\"gridcolor\":\"white\",\"linecolor\":\"white\",\"minorgridcolor\":\"white\",\"startlinecolor\":\"#2a3f5f\"},\"baxis\":{\"endlinecolor\":\"#2a3f5f\",\"gridcolor\":\"white\",\"linecolor\":\"white\",\"minorgridcolor\":\"white\",\"startlinecolor\":\"#2a3f5f\"},\"type\":\"carpet\"}],\"table\":[{\"cells\":{\"fill\":{\"color\":\"#EBF0F8\"},\"line\":{\"color\":\"white\"}},\"header\":{\"fill\":{\"color\":\"#C8D4E3\"},\"line\":{\"color\":\"white\"}},\"type\":\"table\"}],\"barpolar\":[{\"marker\":{\"line\":{\"color\":\"#E5ECF6\",\"width\":0.5},\"pattern\":{\"fillmode\":\"overlay\",\"size\":10,\"solidity\":0.2}},\"type\":\"barpolar\"}],\"pie\":[{\"automargin\":true,\"type\":\"pie\"}]},\"layout\":{\"autotypenumbers\":\"strict\",\"colorway\":[\"#636efa\",\"#EF553B\",\"#00cc96\",\"#ab63fa\",\"#FFA15A\",\"#19d3f3\",\"#FF6692\",\"#B6E880\",\"#FF97FF\",\"#FECB52\"],\"font\":{\"color\":\"#2a3f5f\"},\"hovermode\":\"closest\",\"hoverlabel\":{\"align\":\"left\"},\"paper_bgcolor\":\"white\",\"plot_bgcolor\":\"#E5ECF6\",\"polar\":{\"bgcolor\":\"#E5ECF6\",\"angularaxis\":{\"gridcolor\":\"white\",\"linecolor\":\"white\",\"ticks\":\"\"},\"radialaxis\":{\"gridcolor\":\"white\",\"linecolor\":\"white\",\"ticks\":\"\"}},\"ternary\":{\"bgcolor\":\"#E5ECF6\",\"aaxis\":{\"gridcolor\":\"white\",\"linecolor\":\"white\",\"ticks\":\"\"},\"baxis\":{\"gridcolor\":\"white\",\"linecolor\":\"white\",\"ticks\":\"\"},\"caxis\":{\"gridcolor\":\"white\",\"linecolor\":\"white\",\"ticks\":\"\"}},\"coloraxis\":{\"colorbar\":{\"outlinewidth\":0,\"ticks\":\"\"}},\"colorscale\":{\"sequential\":[[0.0,\"#0d0887\"],[0.1111111111111111,\"#46039f\"],[0.2222222222222222,\"#7201a8\"],[0.3333333333333333,\"#9c179e\"],[0.4444444444444444,\"#bd3786\"],[0.5555555555555556,\"#d8576b\"],[0.6666666666666666,\"#ed7953\"],[0.7777777777777778,\"#fb9f3a\"],[0.8888888888888888,\"#fdca26\"],[1.0,\"#f0f921\"]],\"sequentialminus\":[[0.0,\"#0d0887\"],[0.1111111111111111,\"#46039f\"],[0.2222222222222222,\"#7201a8\"],[0.3333333333333333,\"#9c179e\"],[0.4444444444444444,\"#bd3786\"],[0.5555555555555556,\"#d8576b\"],[0.6666666666666666,\"#ed7953\"],[0.7777777777777778,\"#fb9f3a\"],[0.8888888888888888,\"#fdca26\"],[1.0,\"#f0f921\"]],\"diverging\":[[0,\"#8e0152\"],[0.1,\"#c51b7d\"],[0.2,\"#de77ae\"],[0.3,\"#f1b6da\"],[0.4,\"#fde0ef\"],[0.5,\"#f7f7f7\"],[0.6,\"#e6f5d0\"],[0.7,\"#b8e186\"],[0.8,\"#7fbc41\"],[0.9,\"#4d9221\"],[1,\"#276419\"]]},\"xaxis\":{\"gridcolor\":\"white\",\"linecolor\":\"white\",\"ticks\":\"\",\"title\":{\"standoff\":15},\"zerolinecolor\":\"white\",\"automargin\":true,\"zerolinewidth\":2},\"yaxis\":{\"gridcolor\":\"white\",\"linecolor\":\"white\",\"ticks\":\"\",\"title\":{\"standoff\":15},\"zerolinecolor\":\"white\",\"automargin\":true,\"zerolinewidth\":2},\"scene\":{\"xaxis\":{\"backgroundcolor\":\"#E5ECF6\",\"gridcolor\":\"white\",\"linecolor\":\"white\",\"showbackground\":true,\"ticks\":\"\",\"zerolinecolor\":\"white\",\"gridwidth\":2},\"yaxis\":{\"backgroundcolor\":\"#E5ECF6\",\"gridcolor\":\"white\",\"linecolor\":\"white\",\"showbackground\":true,\"ticks\":\"\",\"zerolinecolor\":\"white\",\"gridwidth\":2},\"zaxis\":{\"backgroundcolor\":\"#E5ECF6\",\"gridcolor\":\"white\",\"linecolor\":\"white\",\"showbackground\":true,\"ticks\":\"\",\"zerolinecolor\":\"white\",\"gridwidth\":2}},\"shapedefaults\":{\"line\":{\"color\":\"#2a3f5f\"}},\"annotationdefaults\":{\"arrowcolor\":\"#2a3f5f\",\"arrowhead\":0,\"arrowwidth\":1},\"geo\":{\"bgcolor\":\"white\",\"landcolor\":\"#E5ECF6\",\"subunitcolor\":\"white\",\"showland\":true,\"showlakes\":true,\"lakecolor\":\"white\"},\"title\":{\"x\":0.05},\"mapbox\":{\"style\":\"light\"}}},\"xaxis\":{\"anchor\":\"y\",\"domain\":[0.0,1.0],\"title\":{\"text\":\"Category\"}},\"yaxis\":{\"anchor\":\"x\",\"domain\":[0.0,1.0],\"title\":{\"text\":\"Values\"}},\"legend\":{\"tracegroupgap\":0},\"title\":{\"text\":\"Bar Plot\"},\"barmode\":\"relative\"},                        {\"responsive\": true}                    ).then(function(){\n",
              "                            \n",
              "var gd = document.getElementById('b78e6032-e7a5-4fc6-be03-45638a3b62d1');\n",
              "var x = new MutationObserver(function (mutations, observer) {{\n",
              "        var display = window.getComputedStyle(gd).display;\n",
              "        if (!display || display === 'none') {{\n",
              "            console.log([gd, 'removed!']);\n",
              "            Plotly.purge(gd);\n",
              "            observer.disconnect();\n",
              "        }}\n",
              "}});\n",
              "\n",
              "// Listen for the removal of the full notebook cells\n",
              "var notebookContainer = gd.closest('#notebook-container');\n",
              "if (notebookContainer) {{\n",
              "    x.observe(notebookContainer, {childList: true});\n",
              "}}\n",
              "\n",
              "// Listen for the clearing of the current output cell\n",
              "var outputEl = gd.closest('.output');\n",
              "if (outputEl) {{\n",
              "    x.observe(outputEl, {childList: true});\n",
              "}}\n",
              "\n",
              "                        })                };                            </script>        </div>\n",
              "</body>\n",
              "</html>"
            ]
          },
          "metadata": {}
        }
      ]
    },
    {
      "cell_type": "markdown",
      "source": [
        "6.\tCreate a DataFrame and add a new column based on an existing column."
      ],
      "metadata": {
        "id": "mo_Biy0AEYhW"
      }
    },
    {
      "cell_type": "code",
      "source": [
        "data = {\n",
        "    'Name': ['anurag', 'rahul', 'arnav', 'pankaj'],\n",
        "    'Age': [25, 30, 35, 40],\n",
        "    'Salary': [50000, 60000, 70000, 80000]\n",
        "}\n",
        "df = pd.DataFrame(data)\n",
        "\n",
        "# the bonus is 10% of the salary\n",
        "df['Bonus'] = df['Salary'] * 0.10\n",
        "\n",
        "print(\"DataFrame with New Column:\")\n",
        "print(df)\n"
      ],
      "metadata": {
        "colab": {
          "base_uri": "https://localhost:8080/"
        },
        "id": "o-3e2JbLEcUQ",
        "outputId": "dbbee8cc-c9cd-4759-fc08-f690727f8b69"
      },
      "execution_count": 15,
      "outputs": [
        {
          "output_type": "stream",
          "name": "stdout",
          "text": [
            "DataFrame with New Column:\n",
            "     Name  Age  Salary   Bonus\n",
            "0  anurag   25   50000  5000.0\n",
            "1   rahul   30   60000  6000.0\n",
            "2   arnav   35   70000  7000.0\n",
            "3  pankaj   40   80000  8000.0\n"
          ]
        }
      ]
    },
    {
      "cell_type": "markdown",
      "source": [
        "7.\tWrite a program to perform element-wise multiplication of two NumPy arrays."
      ],
      "metadata": {
        "id": "iUm2KsQwE084"
      }
    },
    {
      "cell_type": "code",
      "source": [
        "array1 = np.array([1, 2, 3, 4])\n",
        "array2 = np.array([5, 6, 7, 8])\n",
        "\n",
        "result = array1 * array2\n",
        "\n",
        "print(\"Array 1:\", array1)\n",
        "print(\"Array 2:\", array2)\n",
        "print(\"Element-wise Multiplication Result:\", result)\n"
      ],
      "metadata": {
        "colab": {
          "base_uri": "https://localhost:8080/"
        },
        "id": "7U-27ruVE6I7",
        "outputId": "2f0acfa7-c858-4786-f952-1b98febe03e9"
      },
      "execution_count": 16,
      "outputs": [
        {
          "output_type": "stream",
          "name": "stdout",
          "text": [
            "Array 1: [1 2 3 4]\n",
            "Array 2: [5 6 7 8]\n",
            "Element-wise Multiplication Result: [ 5 12 21 32]\n"
          ]
        }
      ]
    },
    {
      "cell_type": "markdown",
      "source": [
        "8.\tCreate a line plot with multiple lines using Matplotlib."
      ],
      "metadata": {
        "id": "t_mEB1YMFGrB"
      }
    },
    {
      "cell_type": "code",
      "source": [
        "x = [1, 2, 3, 4, 5]\n",
        "y1 = [10, 12, 14, 16, 18]\n",
        "y2 = [3, 5, 7, 14, 16]\n",
        "y3 = [15, 8, 15, 12, 8]\n",
        "\n",
        "plt.plot(x, y1, label='Line 1', marker='o')\n",
        "plt.plot(x, y2, label='Line 2', marker='s')\n",
        "plt.plot(x, y3, label='Line 3', marker='^')\n",
        "\n",
        "plt.title('Multiple Line Plot')\n",
        "plt.xlabel('X-axis')\n",
        "plt.ylabel('Y-axis')\n",
        "\n",
        "plt.legend()\n",
        "\n",
        "plt.show()\n"
      ],
      "metadata": {
        "colab": {
          "base_uri": "https://localhost:8080/",
          "height": 472
        },
        "id": "6Q9N3YfaFMId",
        "outputId": "9d073876-110d-463c-a16f-6af501da7dd5"
      },
      "execution_count": 18,
      "outputs": [
        {
          "output_type": "display_data",
          "data": {
            "text/plain": [
              "<Figure size 640x480 with 1 Axes>"
            ],
            "image/png": "[encoded data removed]"
          },
          "metadata": {}
        }
      ]
    },
    {
      "cell_type": "markdown",
      "source": [
        "9.\tGenerate a Pandas DataFrame and filter rows where a column value is greater than a threshold."
      ],
      "metadata": {
        "id": "2Zei81XPF8is"
      }
    },
    {
      "cell_type": "code",
      "source": [
        "data = {\n",
        "    'Name': ['anurag', 'rahul', 'arnav', 'pankaj'],\n",
        "    'Age': [25, 30, 35, 40],\n",
        "    'Salary': [50000, 60000, 70000, 80000]\n",
        "}\n",
        "\n",
        "df = pd.DataFrame(data)\n",
        "\n",
        "threshold = 60000\n",
        "\n",
        "# Filter rows where 'Salary' is greater than the threshold\n",
        "filtered_df = df[df['Salary'] > threshold]\n",
        "\n",
        "print(\"Original DataFrame:\")\n",
        "print(df)\n",
        "print(\"\\nFiltered DataFrame (Salary > 60000):\")\n",
        "print(filtered_df)\n"
      ],
      "metadata": {
        "colab": {
          "base_uri": "https://localhost:8080/"
        },
        "id": "l7FdbdcIGBxF",
        "outputId": "1d2b66d5-26ef-40d0-d03f-d101251be450"
      },
      "execution_count": 19,
      "outputs": [
        {
          "output_type": "stream",
          "name": "stdout",
          "text": [
            "Original DataFrame:\n",
            "     Name  Age  Salary\n",
            "0  anurag   25   50000\n",
            "1   rahul   30   60000\n",
            "2   arnav   35   70000\n",
            "3  pankaj   40   80000\n",
            "\n",
            "Filtered DataFrame (Salary > 60000):\n",
            "     Name  Age  Salary\n",
            "2   arnav   35   70000\n",
            "3  pankaj   40   80000\n"
          ]
        }
      ]
    },
    {
      "cell_type": "markdown",
      "source": [
        "10.\tCreate a histogram using Seaborn to visualize a distribution."
      ],
      "metadata": {
        "id": "Z4N1edhcGbgq"
      }
    },
    {
      "cell_type": "code",
      "source": [
        "data = [10, 12, 15, 14, 19, 18, 21, 22, 25, 28, 30, 31, 33, 35]\n",
        "\n",
        "sns.histplot(data, kde=True, bins=20, color='orange')\n",
        "\n",
        "plt.title('Histogram Chart')\n",
        "plt.xlabel('Value')\n",
        "plt.ylabel('Frequency')\n",
        "\n",
        "plt.show()\n"
      ],
      "metadata": {
        "colab": {
          "base_uri": "https://localhost:8080/",
          "height": 472
        },
        "id": "w2nA2n6CGe8H",
        "outputId": "1a45972d-8ab2-4c6d-ccfe-75ba3ca1b6be"
      },
      "execution_count": 23,
      "outputs": [
        {
          "output_type": "display_data",
          "data": {
            "text/plain": [
              "<Figure size 640x480 with 1 Axes>"
            ],
            "image/png": "[encoded data removed]"
          },
          "metadata": {}
        }
      ]
    },
    {
      "cell_type": "markdown",
      "source": [
        "11.\tPerform matrix multiplication using NumPy."
      ],
      "metadata": {
        "id": "3Ga8lZtVG9vI"
      }
    },
    {
      "cell_type": "code",
      "source": [
        "matrix1 = np.array([[1, 2], [3, 4]])\n",
        "matrix2 = np.array([[5, 6], [7, 8]])\n",
        "\n",
        "result = np.dot(matrix1, matrix2)\n",
        "\n",
        "print(\"Matrix 1:\")\n",
        "print(matrix1)\n",
        "print(\"\\nMatrix 2:\")\n",
        "print(matrix2)\n",
        "print(\"\\nMatrix Multiplication Result:\")\n",
        "print(result)\n"
      ],
      "metadata": {
        "colab": {
          "base_uri": "https://localhost:8080/"
        },
        "id": "xPU2X33nG-Wk",
        "outputId": "646cda65-165a-4ce7-892c-1e41587835a2"
      },
      "execution_count": 24,
      "outputs": [
        {
          "output_type": "stream",
          "name": "stdout",
          "text": [
            "Matrix 1:\n",
            "[[1 2]\n",
            " [3 4]]\n",
            "\n",
            "Matrix 2:\n",
            "[[5 6]\n",
            " [7 8]]\n",
            "\n",
            "Matrix Multiplication Result:\n",
            "[[19 22]\n",
            " [43 50]]\n"
          ]
        }
      ]
    },
    {
      "cell_type": "markdown",
      "source": [
        "12.\tUse Pandas to load a CSV file and display its first 5 rows."
      ],
      "metadata": {
        "id": "kOMl503_INSs"
      }
    },
    {
      "cell_type": "code",
      "source": [
        "data = {\n",
        "    'Name': ['anurag', 'rahul', 'arnav', 'pankaj', 'deepak'],\n",
        "    'Age': [25, 30, 35, 40, 50],\n",
        "    'Salary': [50000, 60000, 70000, 80000, 90000]\n",
        "}\n",
        "\n",
        "df = pd.DataFrame(data)\n",
        "\n",
        "df.to_csv('sample_data.csv', index=False)\n",
        "\n",
        "print(\"CSV file 'sample_data.csv' created successfully.\")\n"
      ],
      "metadata": {
        "colab": {
          "base_uri": "https://localhost:8080/"
        },
        "id": "uWAwNInMJnGP",
        "outputId": "4714a37b-57f3-4a1d-bced-7fe0591d356a"
      },
      "execution_count": 28,
      "outputs": [
        {
          "output_type": "stream",
          "name": "stdout",
          "text": [
            "CSV file 'sample_data.csv' created successfully.\n"
          ]
        }
      ]
    },
    {
      "cell_type": "code",
      "source": [
        "df = pd.read_csv('sample_data.csv')\n",
        "\n",
        "print(df.head())\n"
      ],
      "metadata": {
        "colab": {
          "base_uri": "https://localhost:8080/"
        },
        "id": "XdLj9D-EJ9cz",
        "outputId": "6c7e9e23-dc78-4596-db74-6d0de979e2fd"
      },
      "execution_count": 30,
      "outputs": [
        {
          "output_type": "stream",
          "name": "stdout",
          "text": [
            "     Name  Age  Salary\n",
            "0  anurag   25   50000\n",
            "1   rahul   30   60000\n",
            "2   arnav   35   70000\n",
            "3  pankaj   40   80000\n",
            "4  deepak   50   90000\n"
          ]
        }
      ]
    },
    {
      "cell_type": "markdown",
      "source": [
        "13.\tCreate a 3D scatter plot using Plotly."
      ],
      "metadata": {
        "id": "6Jg0XobIKNb_"
      }
    },
    {
      "cell_type": "code",
      "source": [
        "import plotly.express as px\n",
        "\n",
        "data = {\n",
        "    'X': [1, 2, 3, 4, 5],\n",
        "    'Y': [10, 12, 14, 16, 18],\n",
        "    'Z': [5, 6, 7, 8, 9],\n",
        "    'Category': ['A', 'B', 'C', 'D', 'E']\n",
        "}\n",
        "\n",
        "df = pd.DataFrame(data)\n",
        "\n",
        "fig = px.scatter_3d(df, x='X', y='Y', z='Z', color='Category', title='3D Scatter Plot')\n",
        "\n",
        "fig.show()\n"
      ],
      "metadata": {
        "colab": {
          "base_uri": "https://localhost:8080/",
          "height": 542
        },
        "id": "W2xqvNZQKT1L",
        "outputId": "0ccd88e7-b2ab-471a-db98-65f9b0f47cd8"
      },
      "execution_count": 31,
      "outputs": [
        {
          "output_type": "display_data",
          "data": {
            "text/html": [
              "<html>\n",
              "<head><meta charset=\"utf-8\" /></head>\n",
              "<body>\n",
              "    <div>            <script src=\"https://cdnjs.cloudflare.com/ajax/libs/mathjax/2.7.5/MathJax.js?config=TeX-AMS-MML_SVG\"></script><script type=\"text/javascript\">if (window.MathJax && window.MathJax.Hub && window.MathJax.Hub.Config) {window.MathJax.Hub.Config({SVG: {font: \"STIX-Web\"}});}</script>                <script type=\"text/javascript\">window.PlotlyConfig = {MathJaxConfig: 'local'};</script>\n",
              "        <script charset=\"utf-8\" src=\"https://cdn.plot.ly/plotly-2.35.2.min.js\"></script>                <div id=\"9e9ae443-eb23-4b68-adee-7585fbeacd10\" class=\"plotly-graph-div\" style=\"height:525px; width:100%;\"></div>            <script type=\"text/javascript\">                                    window.PLOTLYENV=window.PLOTLYENV || {};                                    if (document.getElementById(\"9e9ae443-eb23-4b68-adee-7585fbeacd10\")) {                    Plotly.newPlot(                        \"9e9ae443-eb23-4b68-adee-7585fbeacd10\",                        [{\"hovertemplate\":\"Category=A\\u003cbr\\u003eX=%{x}\\u003cbr\\u003eY=%{y}\\u003cbr\\u003eZ=%{z}\\u003cextra\\u003e\\u003c\\u002fextra\\u003e\",\"legendgroup\":\"A\",\"marker\":{\"color\":\"#636efa\",\"symbol\":\"circle\"},\"mode\":\"markers\",\"name\":\"A\",\"scene\":\"scene\",\"showlegend\":true,\"x\":[1],\"y\":[10],\"z\":[5],\"type\":\"scatter3d\"},{\"hovertemplate\":\"Category=B\\u003cbr\\u003eX=%{x}\\u003cbr\\u003eY=%{y}\\u003cbr\\u003eZ=%{z}\\u003cextra\\u003e\\u003c\\u002fextra\\u003e\",\"legendgroup\":\"B\",\"marker\":{\"color\":\"#EF553B\",\"symbol\":\"circle\"},\"mode\":\"markers\",\"name\":\"B\",\"scene\":\"scene\",\"showlegend\":true,\"x\":[2],\"y\":[12],\"z\":[6],\"type\":\"scatter3d\"},{\"hovertemplate\":\"Category=C\\u003cbr\\u003eX=%{x}\\u003cbr\\u003eY=%{y}\\u003cbr\\u003eZ=%{z}\\u003cextra\\u003e\\u003c\\u002fextra\\u003e\",\"legendgroup\":\"C\",\"marker\":{\"color\":\"#00cc96\",\"symbol\":\"circle\"},\"mode\":\"markers\",\"name\":\"C\",\"scene\":\"scene\",\"showlegend\":true,\"x\":[3],\"y\":[14],\"z\":[7],\"type\":\"scatter3d\"},{\"hovertemplate\":\"Category=D\\u003cbr\\u003eX=%{x}\\u003cbr\\u003eY=%{y}\\u003cbr\\u003eZ=%{z}\\u003cextra\\u003e\\u003c\\u002fextra\\u003e\",\"legendgroup\":\"D\",\"marker\":{\"color\":\"#ab63fa\",\"symbol\":\"circle\"},\"mode\":\"markers\",\"name\":\"D\",\"scene\":\"scene\",\"showlegend\":true,\"x\":[4],\"y\":[16],\"z\":[8],\"type\":\"scatter3d\"},{\"hovertemplate\":\"Category=E\\u003cbr\\u003eX=%{x}\\u003cbr\\u003eY=%{y}\\u003cbr\\u003eZ=%{z}\\u003cextra\\u003e\\u003c\\u002fextra\\u003e\",\"legendgroup\":\"E\",\"marker\":{\"color\":\"#FFA15A\",\"symbol\":\"circle\"},\"mode\":\"markers\",\"name\":\"E\",\"scene\":\"scene\",\"showlegend\":true,\"x\":[5],\"y\":[18],\"z\":[9],\"type\":\"scatter3d\"}],                        {\"template\":{\"data\":{\"histogram2dcontour\":[{\"type\":\"histogram2dcontour\",\"colorbar\":{\"outlinewidth\":0,\"ticks\":\"\"},\"colorscale\":[[0.0,\"#0d0887\"],[0.1111111111111111,\"#46039f\"],[0.2222222222222222,\"#7201a8\"],[0.3333333333333333,\"#9c179e\"],[0.4444444444444444,\"#bd3786\"],[0.5555555555555556,\"#d8576b\"],[0.6666666666666666,\"#ed7953\"],[0.7777777777777778,\"#fb9f3a\"],[0.8888888888888888,\"#fdca26\"],[1.0,\"#f0f921\"]]}],\"choropleth\":[{\"type\":\"choropleth\",\"colorbar\":{\"outlinewidth\":0,\"ticks\":\"\"}}],\"histogram2d\":[{\"type\":\"histogram2d\",\"colorbar\":{\"outlinewidth\":0,\"ticks\":\"\"},\"colorscale\":[[0.0,\"#0d0887\"],[0.1111111111111111,\"#46039f\"],[0.2222222222222222,\"#7201a8\"],[0.3333333333333333,\"#9c179e\"],[0.4444444444444444,\"#bd3786\"],[0.5555555555555556,\"#d8576b\"],[0.6666666666666666,\"#ed7953\"],[0.7777777777777778,\"#fb9f3a\"],[0.8888888888888888,\"#fdca26\"],[1.0,\"#f0f921\"]]}],\"heatmap\":[{\"type\":\"heatmap\",\"colorbar\":{\"outlinewidth\":0,\"ticks\":\"\"},\"colorscale\":[[0.0,\"#0d0887\"],[0.1111111111111111,\"#46039f\"],[0.2222222222222222,\"#7201a8\"],[0.3333333333333333,\"#9c179e\"],[0.4444444444444444,\"#bd3786\"],[0.5555555555555556,\"#d8576b\"],[0.6666666666666666,\"#ed7953\"],[0.7777777777777778,\"#fb9f3a\"],[0.8888888888888888,\"#fdca26\"],[1.0,\"#f0f921\"]]}],\"heatmapgl\":[{\"type\":\"heatmapgl\",\"colorbar\":{\"outlinewidth\":0,\"ticks\":\"\"},\"colorscale\":[[0.0,\"#0d0887\"],[0.1111111111111111,\"#46039f\"],[0.2222222222222222,\"#7201a8\"],[0.3333333333333333,\"#9c179e\"],[0.4444444444444444,\"#bd3786\"],[0.5555555555555556,\"#d8576b\"],[0.6666666666666666,\"#ed7953\"],[0.7777777777777778,\"#fb9f3a\"],[0.8888888888888888,\"#fdca26\"],[1.0,\"#f0f921\"]]}],\"contourcarpet\":[{\"type\":\"contourcarpet\",\"colorbar\":{\"outlinewidth\":0,\"ticks\":\"\"}}],\"contour\":[{\"type\":\"contour\",\"colorbar\":{\"outlinewidth\":0,\"ticks\":\"\"},\"colorscale\":[[0.0,\"#0d0887\"],[0.1111111111111111,\"#46039f\"],[0.2222222222222222,\"#7201a8\"],[0.3333333333333333,\"#9c179e\"],[0.4444444444444444,\"#bd3786\"],[0.5555555555555556,\"#d8576b\"],[0.6666666666666666,\"#ed7953\"],[0.7777777777777778,\"#fb9f3a\"],[0.8888888888888888,\"#fdca26\"],[1.0,\"#f0f921\"]]}],\"surface\":[{\"type\":\"surface\",\"colorbar\":{\"outlinewidth\":0,\"ticks\":\"\"},\"colorscale\":[[0.0,\"#0d0887\"],[0.1111111111111111,\"#46039f\"],[0.2222222222222222,\"#7201a8\"],[0.3333333333333333,\"#9c179e\"],[0.4444444444444444,\"#bd3786\"],[0.5555555555555556,\"#d8576b\"],[0.6666666666666666,\"#ed7953\"],[0.7777777777777778,\"#fb9f3a\"],[0.8888888888888888,\"#fdca26\"],[1.0,\"#f0f921\"]]}],\"mesh3d\":[{\"type\":\"mesh3d\",\"colorbar\":{\"outlinewidth\":0,\"ticks\":\"\"}}],\"scatter\":[{\"fillpattern\":{\"fillmode\":\"overlay\",\"size\":10,\"solidity\":0.2},\"type\":\"scatter\"}],\"parcoords\":[{\"type\":\"parcoords\",\"line\":{\"colorbar\":{\"outlinewidth\":0,\"ticks\":\"\"}}}],\"scatterpolargl\":[{\"type\":\"scatterpolargl\",\"marker\":{\"colorbar\":{\"outlinewidth\":0,\"ticks\":\"\"}}}],\"bar\":[{\"error_x\":{\"color\":\"#2a3f5f\"},\"error_y\":{\"color\":\"#2a3f5f\"},\"marker\":{\"line\":{\"color\":\"#E5ECF6\",\"width\":0.5},\"pattern\":{\"fillmode\":\"overlay\",\"size\":10,\"solidity\":0.2}},\"type\":\"bar\"}],\"scattergeo\":[{\"type\":\"scattergeo\",\"marker\":{\"colorbar\":{\"outlinewidth\":0,\"ticks\":\"\"}}}],\"scatterpolar\":[{\"type\":\"scatterpolar\",\"marker\":{\"colorbar\":{\"outlinewidth\":0,\"ticks\":\"\"}}}],\"histogram\":[{\"marker\":{\"pattern\":{\"fillmode\":\"overlay\",\"size\":10,\"solidity\":0.2}},\"type\":\"histogram\"}],\"scattergl\":[{\"type\":\"scattergl\",\"marker\":{\"colorbar\":{\"outlinewidth\":0,\"ticks\":\"\"}}}],\"scatter3d\":[{\"type\":\"scatter3d\",\"line\":{\"colorbar\":{\"outlinewidth\":0,\"ticks\":\"\"}},\"marker\":{\"colorbar\":{\"outlinewidth\":0,\"ticks\":\"\"}}}],\"scattermapbox\":[{\"type\":\"scattermapbox\",\"marker\":{\"colorbar\":{\"outlinewidth\":0,\"ticks\":\"\"}}}],\"scatterternary\":[{\"type\":\"scatterternary\",\"marker\":{\"colorbar\":{\"outlinewidth\":0,\"ticks\":\"\"}}}],\"scattercarpet\":[{\"type\":\"scattercarpet\",\"marker\":{\"colorbar\":{\"outlinewidth\":0,\"ticks\":\"\"}}}],\"carpet\":[{\"aaxis\":{\"endlinecolor\":\"#2a3f5f\",\"gridcolor\":\"white\",\"linecolor\":\"white\",\"minorgridcolor\":\"white\",\"startlinecolor\":\"#2a3f5f\"},\"baxis\":{\"endlinecolor\":\"#2a3f5f\",\"gridcolor\":\"white\",\"linecolor\":\"white\",\"minorgridcolor\":\"white\",\"startlinecolor\":\"#2a3f5f\"},\"type\":\"carpet\"}],\"table\":[{\"cells\":{\"fill\":{\"color\":\"#EBF0F8\"},\"line\":{\"color\":\"white\"}},\"header\":{\"fill\":{\"color\":\"#C8D4E3\"},\"line\":{\"color\":\"white\"}},\"type\":\"table\"}],\"barpolar\":[{\"marker\":{\"line\":{\"color\":\"#E5ECF6\",\"width\":0.5},\"pattern\":{\"fillmode\":\"overlay\",\"size\":10,\"solidity\":0.2}},\"type\":\"barpolar\"}],\"pie\":[{\"automargin\":true,\"type\":\"pie\"}]},\"layout\":{\"autotypenumbers\":\"strict\",\"colorway\":[\"#636efa\",\"#EF553B\",\"#00cc96\",\"#ab63fa\",\"#FFA15A\",\"#19d3f3\",\"#FF6692\",\"#B6E880\",\"#FF97FF\",\"#FECB52\"],\"font\":{\"color\":\"#2a3f5f\"},\"hovermode\":\"closest\",\"hoverlabel\":{\"align\":\"left\"},\"paper_bgcolor\":\"white\",\"plot_bgcolor\":\"#E5ECF6\",\"polar\":{\"bgcolor\":\"#E5ECF6\",\"angularaxis\":{\"gridcolor\":\"white\",\"linecolor\":\"white\",\"ticks\":\"\"},\"radialaxis\":{\"gridcolor\":\"white\",\"linecolor\":\"white\",\"ticks\":\"\"}},\"ternary\":{\"bgcolor\":\"#E5ECF6\",\"aaxis\":{\"gridcolor\":\"white\",\"linecolor\":\"white\",\"ticks\":\"\"},\"baxis\":{\"gridcolor\":\"white\",\"linecolor\":\"white\",\"ticks\":\"\"},\"caxis\":{\"gridcolor\":\"white\",\"linecolor\":\"white\",\"ticks\":\"\"}},\"coloraxis\":{\"colorbar\":{\"outlinewidth\":0,\"ticks\":\"\"}},\"colorscale\":{\"sequential\":[[0.0,\"#0d0887\"],[0.1111111111111111,\"#46039f\"],[0.2222222222222222,\"#7201a8\"],[0.3333333333333333,\"#9c179e\"],[0.4444444444444444,\"#bd3786\"],[0.5555555555555556,\"#d8576b\"],[0.6666666666666666,\"#ed7953\"],[0.7777777777777778,\"#fb9f3a\"],[0.8888888888888888,\"#fdca26\"],[1.0,\"#f0f921\"]],\"sequentialminus\":[[0.0,\"#0d0887\"],[0.1111111111111111,\"#46039f\"],[0.2222222222222222,\"#7201a8\"],[0.3333333333333333,\"#9c179e\"],[0.4444444444444444,\"#bd3786\"],[0.5555555555555556,\"#d8576b\"],[0.6666666666666666,\"#ed7953\"],[0.7777777777777778,\"#fb9f3a\"],[0.8888888888888888,\"#fdca26\"],[1.0,\"#f0f921\"]],\"diverging\":[[0,\"#8e0152\"],[0.1,\"#c51b7d\"],[0.2,\"#de77ae\"],[0.3,\"#f1b6da\"],[0.4,\"#fde0ef\"],[0.5,\"#f7f7f7\"],[0.6,\"#e6f5d0\"],[0.7,\"#b8e186\"],[0.8,\"#7fbc41\"],[0.9,\"#4d9221\"],[1,\"#276419\"]]},\"xaxis\":{\"gridcolor\":\"white\",\"linecolor\":\"white\",\"ticks\":\"\",\"title\":{\"standoff\":15},\"zerolinecolor\":\"white\",\"automargin\":true,\"zerolinewidth\":2},\"yaxis\":{\"gridcolor\":\"white\",\"linecolor\":\"white\",\"ticks\":\"\",\"title\":{\"standoff\":15},\"zerolinecolor\":\"white\",\"automargin\":true,\"zerolinewidth\":2},\"scene\":{\"xaxis\":{\"backgroundcolor\":\"#E5ECF6\",\"gridcolor\":\"white\",\"linecolor\":\"white\",\"showbackground\":true,\"ticks\":\"\",\"zerolinecolor\":\"white\",\"gridwidth\":2},\"yaxis\":{\"backgroundcolor\":\"#E5ECF6\",\"gridcolor\":\"white\",\"linecolor\":\"white\",\"showbackground\":true,\"ticks\":\"\",\"zerolinecolor\":\"white\",\"gridwidth\":2},\"zaxis\":{\"backgroundcolor\":\"#E5ECF6\",\"gridcolor\":\"white\",\"linecolor\":\"white\",\"showbackground\":true,\"ticks\":\"\",\"zerolinecolor\":\"white\",\"gridwidth\":2}},\"shapedefaults\":{\"line\":{\"color\":\"#2a3f5f\"}},\"annotationdefaults\":{\"arrowcolor\":\"#2a3f5f\",\"arrowhead\":0,\"arrowwidth\":1},\"geo\":{\"bgcolor\":\"white\",\"landcolor\":\"#E5ECF6\",\"subunitcolor\":\"white\",\"showland\":true,\"showlakes\":true,\"lakecolor\":\"white\"},\"title\":{\"x\":0.05},\"mapbox\":{\"style\":\"light\"}}},\"scene\":{\"domain\":{\"x\":[0.0,1.0],\"y\":[0.0,1.0]},\"xaxis\":{\"title\":{\"text\":\"X\"}},\"yaxis\":{\"title\":{\"text\":\"Y\"}},\"zaxis\":{\"title\":{\"text\":\"Z\"}}},\"legend\":{\"title\":{\"text\":\"Category\"},\"tracegroupgap\":0},\"title\":{\"text\":\"3D Scatter Plot\"}},                        {\"responsive\": true}                    ).then(function(){\n",
              "                            \n",
              "var gd = document.getElementById('9e9ae443-eb23-4b68-adee-7585fbeacd10');\n",
              "var x = new MutationObserver(function (mutations, observer) {{\n",
              "        var display = window.getComputedStyle(gd).display;\n",
              "        if (!display || display === 'none') {{\n",
              "            console.log([gd, 'removed!']);\n",
              "            Plotly.purge(gd);\n",
              "            observer.disconnect();\n",
              "        }}\n",
              "}});\n",
              "\n",
              "// Listen for the removal of the full notebook cells\n",
              "var notebookContainer = gd.closest('#notebook-container');\n",
              "if (notebookContainer) {{\n",
              "    x.observe(notebookContainer, {childList: true});\n",
              "}}\n",
              "\n",
              "// Listen for the clearing of the current output cell\n",
              "var outputEl = gd.closest('.output');\n",
              "if (outputEl) {{\n",
              "    x.observe(outputEl, {childList: true});\n",
              "}}\n",
              "\n",
              "                        })                };                            </script>        </div>\n",
              "</body>\n",
              "</html>"
            ]
          },
          "metadata": {}
        }
      ]
    }
  ]
}